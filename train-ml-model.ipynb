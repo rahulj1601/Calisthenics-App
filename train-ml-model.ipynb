{
 "cells": [
  {
   "attachments": {},
   "cell_type": "markdown",
   "metadata": {},
   "source": [
    "# Calisthenics AI Personal Trainer\n",
    "## Training ML-Models for Handstand, Front Lever & Planche\n",
    "***"
   ]
  },
  {
   "attachments": {},
   "cell_type": "markdown",
   "metadata": {},
   "source": [
    "### Pre-processing"
   ]
  },
  {
   "cell_type": "code",
   "execution_count": 136,
   "metadata": {},
   "outputs": [],
   "source": [
    "# Importing Modules\n",
    "import tensorflow as tf\n",
    "import numpy as np\n",
    "import pandas as pd \n",
    "import os\n",
    "import csv\n",
    "import tqdm \n",
    "import sys\n",
    "import random\n",
    "import shutil\n",
    "import tempfile\n",
    "import cv2\n",
    "\n",
    "# Importing MoveNet\n",
    "movenet_path = os.path.join(os.getcwd(), 'TF-Movenet/examples/lite/examples/pose_estimation/raspberry_pi')\n",
    "sys.path.append(movenet_path)\n",
    "\n",
    "# Load MoveNet Thunder model and utility classes/functions\n",
    "import utils\n",
    "from data import BodyPart\n",
    "from ml import Movenet\n",
    "movenet = Movenet('./TF-Movenet/movenet_thunder')"
   ]
  },
  {
   "cell_type": "code",
   "execution_count": 137,
   "metadata": {},
   "outputs": [],
   "source": [
    "# Runs detection on an input image\n",
    "\n",
    "def detect(input_tensor, inference_count=3):\n",
    "    \n",
    "    movenet.detect(input_tensor.numpy(), reset_crop_region=True)\n",
    "    \n",
    "    for _ in range(inference_count - 1):\n",
    "        detection = movenet.detect(input_tensor.numpy(), \n",
    "                                reset_crop_region=False)\n",
    "    \n",
    "    return detection"
   ]
  },
  {
   "cell_type": "code",
   "execution_count": 138,
   "metadata": {},
   "outputs": [],
   "source": [
    "# Draw the detection result on top of the image.\n",
    "def draw_prediction_on_image(image, person):\n",
    "  image_np = utils.visualize(image, [person])\n",
    "  return image_np\n",
    "\n",
    "# Draw the pose result on top of a white box\n",
    "def draw_pose(image, person):\n",
    "  # create a numpy array filled with 255 (white)\n",
    "  image = np.full(image.shape, 255, dtype=np.uint8)\n",
    "\n",
    "  # set the values within the box to 255 (white)\n",
    "  image[1:-1, 1:-1] = 255\n",
    "\n",
    "  image_np = utils.visualize(image, [person])\n",
    "  return image_np"
   ]
  },
  {
   "cell_type": "code",
   "execution_count": 139,
   "metadata": {},
   "outputs": [],
   "source": [
    "class MoveNetPreprocessor(object):\n",
    " \n",
    "  def __init__(self, images_in_folder, images_out_folder, csvs_out_path):\n",
    "    self._images_in_folder = images_in_folder\n",
    "    self._images_out_folder = images_out_folder\n",
    "    self._csvs_out_path = csvs_out_path\n",
    "    self._messages = []\n",
    "\n",
    "    # Create a temp dir to store the pose CSVs per class\n",
    "    self._csvs_out_folder_per_class = tempfile.mkdtemp()\n",
    " \n",
    "    # Get list of pose classes and print image statistics\n",
    "    self._pose_class_names = sorted(\n",
    "        [n for n in os.listdir(self._images_in_folder) if not n.startswith('.')]\n",
    "        )\n",
    "    \n",
    "  def process(self, per_pose_class_limit=None, detection_threshold=0.1):\n",
    "\n",
    "    # Loop through the classes and preprocess its images\n",
    "    for pose_class_name in self._pose_class_names:\n",
    "      print('Preprocessing', pose_class_name, file=sys.stderr)\n",
    "\n",
    "      # Paths for the pose class.\n",
    "      images_in_folder = os.path.join(self._images_in_folder, pose_class_name)\n",
    "      images_out_folder = os.path.join(self._images_out_folder, pose_class_name)\n",
    "      csv_out_path = os.path.join(self._csvs_out_folder_per_class,\n",
    "                                  pose_class_name + '.csv')\n",
    "      if not os.path.exists(images_out_folder):\n",
    "        os.makedirs(images_out_folder)\n",
    " \n",
    "      # Detect landmarks in each image and write it to a CSV file\n",
    "      with open(csv_out_path, 'w') as csv_out_file:\n",
    "        csv_out_writer = csv.writer(csv_out_file, \n",
    "                                    delimiter=',', \n",
    "                                    quoting=csv.QUOTE_MINIMAL)\n",
    "        # Get list of images\n",
    "        image_names = sorted(\n",
    "            [n for n in os.listdir(images_in_folder) if not n.startswith('.')])\n",
    "        if per_pose_class_limit is not None:\n",
    "          image_names = image_names[:per_pose_class_limit]\n",
    "\n",
    "        valid_image_count = 0\n",
    " \n",
    "        # Detect pose landmarks from each image\n",
    "        for image_name in tqdm.tqdm(image_names):\n",
    "          image_path = os.path.join(images_in_folder, image_name)\n",
    "\n",
    "          try:\n",
    "            image = tf.io.read_file(image_path)\n",
    "            image = tf.io.decode_jpeg(image)\n",
    "          except:\n",
    "            self._messages.append('Skipped ' + image_path + '. Invalid image.')\n",
    "            continue\n",
    "          else:\n",
    "            image = tf.io.read_file(image_path)\n",
    "            image = tf.io.decode_jpeg(image)\n",
    "            image_height, image_width, channel = image.shape\n",
    "          \n",
    "          # Skip images that isn't RGB because Movenet requires RGB images\n",
    "          if channel != 3:\n",
    "            self._messages.append('Skipped ' + image_path + '. Image isn\\'t in RGB format.')\n",
    "            continue\n",
    "\n",
    "          person = detect(image)\n",
    "          \n",
    "          # Save landmarks if all landmarks were detected\n",
    "          min_landmark_score = min([keypoint.score for keypoint in person.keypoints])\n",
    "          should_keep_image = min_landmark_score >= detection_threshold\n",
    "          if not should_keep_image:\n",
    "            self._messages.append('Skipped ' + image_path + '. No pose was confidentlly detected.')\n",
    "            continue\n",
    "\n",
    "          valid_image_count += 1\n",
    "\n",
    "          # Draw the prediction result on top of the image for debugging later\n",
    "          output_overlay = draw_pose(image.numpy().astype(np.uint8), person)\n",
    "        \n",
    "          # Write detection result into an image file\n",
    "          output_frame = cv2.cvtColor(output_overlay, cv2.COLOR_RGB2BGR)\n",
    "          cv2.imwrite(os.path.join(images_out_folder, image_name), output_frame)\n",
    "        \n",
    "          # Get landmarks and scale it to the same size as the input image\n",
    "          pose_landmarks = np.array(\n",
    "              [[keypoint.coordinate.x, keypoint.coordinate.y, keypoint.score]\n",
    "                for keypoint in person.keypoints],\n",
    "              dtype=np.float32)\n",
    "\n",
    "          # Write the landmark coordinates to its per-class CSV file\n",
    "          coordinates = pose_landmarks.flatten().astype(np.str).tolist()\n",
    "          csv_out_writer.writerow([image_name] + coordinates)\n",
    "\n",
    "        if not valid_image_count:\n",
    "          raise RuntimeError(\n",
    "              'No valid images found for the \"{}\" class.'\n",
    "              .format(pose_class_name))\n",
    "      \n",
    "    # Print the error message collected during preprocessing.\n",
    "    print('\\n'.join(self._messages))\n",
    "\n",
    "    # Combine all per-class CSVs into a single output file\n",
    "    all_landmarks_df = self._all_landmarks_as_dataframe()\n",
    "    all_landmarks_df.to_csv(self._csvs_out_path, index=False)\n",
    "\n",
    "  def class_names(self):\n",
    "    return self._pose_class_names\n",
    "  \n",
    "  def _all_landmarks_as_dataframe(self):\n",
    "    total_df = None\n",
    "    for class_index, class_name in enumerate(self._pose_class_names):\n",
    "      csv_out_path = os.path.join(self._csvs_out_folder_per_class,\n",
    "                                  class_name + '.csv')\n",
    "      per_class_df = pd.read_csv(csv_out_path, header=None)\n",
    "      \n",
    "      # Add the labels\n",
    "      per_class_df['class_no'] = [class_index]*len(per_class_df)\n",
    "      per_class_df['class_name'] = [class_name]*len(per_class_df)\n",
    "\n",
    "      # Append the folder name to the filename column (first column)\n",
    "      per_class_df[per_class_df.columns[0]] = (os.path.join(class_name, '') \n",
    "        + per_class_df[per_class_df.columns[0]].astype(str))\n",
    "\n",
    "      if total_df is None:\n",
    "        # For the first class, assign its data to the total dataframe\n",
    "        total_df = per_class_df\n",
    "      else:\n",
    "        # Concatenate each class's data into the total dataframe\n",
    "        total_df = pd.concat([total_df, per_class_df], axis=0)\n",
    " \n",
    "    list_name = [[bodypart.name + '_x', bodypart.name + '_y', \n",
    "                  bodypart.name + '_score'] for bodypart in BodyPart] \n",
    "    header_name = []\n",
    "    for columns_name in list_name:\n",
    "      header_name += columns_name\n",
    "    header_name = ['file_name'] + header_name\n",
    "    header_map = {total_df.columns[i]: header_name[i] \n",
    "                  for i in range(len(header_name))}\n",
    " \n",
    "    total_df.rename(header_map, axis=1, inplace=True)\n",
    "\n",
    "    return total_df"
   ]
  },
  {
   "cell_type": "code",
   "execution_count": 140,
   "metadata": {},
   "outputs": [],
   "source": [
    "# Test Movenet Pose Estimation\n",
    "image = tf.io.read_file('/Users/rahul/Documents/Calisthenics-App/Input/Handstand/Bad/1.jpeg')\n",
    "image = tf.io.decode_jpeg(image)\n",
    "person = detect(image)\n",
    "_ = draw_prediction_on_image(image.numpy(), person)\n",
    "\n",
    "_ = draw_pose(image.numpy(), person)"
   ]
  },
  {
   "attachments": {},
   "cell_type": "markdown",
   "metadata": {},
   "source": [
    "### Training"
   ]
  },
  {
   "cell_type": "code",
   "execution_count": 141,
   "metadata": {},
   "outputs": [],
   "source": [
    "import csv\n",
    "import pandas as pd\n",
    "import itertools\n",
    "\n",
    "from matplotlib import pyplot as plt\n",
    "from matplotlib.collections import LineCollection\n",
    "\n",
    "from sklearn.model_selection import train_test_split\n",
    "from sklearn.metrics import accuracy_score, classification_report, confusion_matrix\n",
    "\n",
    "import tensorflow as tf\n",
    "import tensorflow_hub as hub\n",
    "from tensorflow import keras"
   ]
  },
  {
   "cell_type": "code",
   "execution_count": 142,
   "metadata": {},
   "outputs": [],
   "source": [
    "# TODO: Set/Check Path/File Variables Before Running\n",
    "DATASET_IN = \"./Input/Planche/\"\n",
    "DATASET_OUT = \"./Input/Split-Planche/\"\n",
    "OUTPUT_DIR = \"./TF-Models/Planche/Data/\"\n",
    "CLASSIFIER = \"./TF-Models/Planche/Planche-Classifier.tflite\"\n",
    "LABELS = \"./TF-Models/Planche/Planche-Labels.txt\""
   ]
  },
  {
   "cell_type": "code",
   "execution_count": 143,
   "metadata": {},
   "outputs": [],
   "source": [
    "# Split Directory into Train and Test Images\n",
    "def split_into_train_test(images_origin, images_dest, test_split):\n",
    "    _, dirs, _ = next(os.walk(images_origin))\n",
    "\n",
    "    TRAIN_DIR = os.path.join(images_dest, 'train')\n",
    "    TEST_DIR = os.path.join(images_dest, 'test')\n",
    "    os.makedirs(TRAIN_DIR, exist_ok=True)\n",
    "    os.makedirs(TEST_DIR, exist_ok=True)\n",
    "\n",
    "    for dir in dirs:\n",
    "        # Get all filenames for this dir, filtered by filetype\n",
    "        filenames = os.listdir(os.path.join(images_origin, dir))\n",
    "        filenames = [os.path.join(images_origin, dir, f) for f in filenames if (\n",
    "            f.endswith('.png') or f.endswith('.jpg') or f.endswith('.jpeg') or f.endswith('.bmp'))]\n",
    "\n",
    "        # Shuffle the files, deterministically\n",
    "        filenames.sort()\n",
    "        random.seed(42)\n",
    "        random.shuffle(filenames)\n",
    "\n",
    "        # Divide them into train/test dirs\n",
    "        os.makedirs(os.path.join(TEST_DIR, dir), exist_ok=True)\n",
    "        os.makedirs(os.path.join(TRAIN_DIR, dir), exist_ok=True)\n",
    "        test_count = int(len(filenames) * test_split)\n",
    "        for i, file in enumerate(filenames):\n",
    "            if i < test_count:\n",
    "                destination = os.path.join(TEST_DIR, dir, os.path.split(file)[1])\n",
    "            else:\n",
    "                destination = os.path.join(TRAIN_DIR, dir, os.path.split(file)[1])\n",
    "            shutil.copyfile(file, destination)\n",
    "\n",
    "        print(f'Moved {test_count} of {len(filenames)} from class \"{dir}\" into test.')\n",
    "\n",
    "    print(f'Your split dataset is in \"{images_dest}\"')"
   ]
  },
  {
   "cell_type": "code",
   "execution_count": 144,
   "metadata": {},
   "outputs": [
    {
     "name": "stdout",
     "output_type": "stream",
     "text": [
      "Moved 20 of 102 from class \"Perfect\" into test.\n",
      "Moved 21 of 108 from class \"Bad\" into test.\n",
      "Moved 12 of 60 from class \"Good\" into test.\n",
      "Moved 39 of 198 from class \"Average\" into test.\n",
      "Your split dataset is in \"./Input/Split-Planche/\"\n"
     ]
    }
   ],
   "source": [
    "# Splitting the Dataset\n",
    "dataset_in = DATASET_IN\n",
    "dataset_out = DATASET_OUT\n",
    "split_into_train_test(dataset_in, dataset_out, test_split=0.2)\n",
    "IMAGES_ROOT = dataset_out\n",
    "\n",
    "output_dir = OUTPUT_DIR"
   ]
  },
  {
   "cell_type": "code",
   "execution_count": 145,
   "metadata": {},
   "outputs": [
    {
     "name": "stderr",
     "output_type": "stream",
     "text": [
      "Preprocessing Average\n",
      "  0%|          | 0/159 [00:00<?, ?it/s]/Users/rahul/Documents/Calisthenics-App/venv/lib/python3.7/site-packages/ipykernel_launcher.py:89: DeprecationWarning: `np.str` is a deprecated alias for the builtin `str`. To silence this warning, use `str` by itself. Doing this will not modify any behavior and is safe. If you specifically wanted the numpy scalar type, use `np.str_` here.\n",
      "Deprecated in NumPy 1.20; for more details and guidance: https://numpy.org/devdocs/release/1.20.0-notes.html#deprecations\n",
      "100%|██████████| 159/159 [01:20<00:00,  1.96it/s]\n",
      "Preprocessing Bad\n",
      "100%|██████████| 87/87 [00:38<00:00,  2.27it/s]\n",
      "Preprocessing Good\n",
      "100%|██████████| 48/48 [00:16<00:00,  2.91it/s]\n",
      "Preprocessing Perfect\n",
      "100%|██████████| 82/82 [00:28<00:00,  2.89it/s]\n"
     ]
    },
    {
     "name": "stdout",
     "output_type": "stream",
     "text": [
      "Skipped ./Input/Split-Planche/train/Average/10.jpeg. No pose was confidentlly detected.\n",
      "Skipped ./Input/Split-Planche/train/Average/190.jpeg. No pose was confidentlly detected.\n",
      "Skipped ./Input/Split-Planche/train/Average/8.jpeg. No pose was confidentlly detected.\n",
      "Skipped ./Input/Split-Planche/train/Average/85.jpeg. No pose was confidentlly detected.\n",
      "Skipped ./Input/Split-Planche/train/Average/86.jpeg. No pose was confidentlly detected.\n",
      "Skipped ./Input/Split-Planche/train/Average/9.jpeg. No pose was confidentlly detected.\n",
      "Skipped ./Input/Split-Planche/train/Bad/32.jpeg. No pose was confidentlly detected.\n",
      "Skipped ./Input/Split-Planche/train/Bad/33.jpeg. No pose was confidentlly detected.\n",
      "Skipped ./Input/Split-Planche/train/Good/1.jpeg. No pose was confidentlly detected.\n",
      "Skipped ./Input/Split-Planche/train/Good/3.jpeg. No pose was confidentlly detected.\n",
      "Skipped ./Input/Split-Planche/train/Good/36.jpeg. No pose was confidentlly detected.\n",
      "Skipped ./Input/Split-Planche/train/Good/49.jpeg. No pose was confidentlly detected.\n",
      "Skipped ./Input/Split-Planche/train/Good/51.jpeg. No pose was confidentlly detected.\n",
      "Skipped ./Input/Split-Planche/train/Perfect/57.jpeg. No pose was confidentlly detected.\n"
     ]
    }
   ],
   "source": [
    "# Preprocess Train Folder\n",
    "images_in_train_folder = os.path.join(IMAGES_ROOT, 'train')\n",
    "images_out_train_folder = output_dir + '/images_out_train'\n",
    "csvs_out_train_path = output_dir + '/train_data.csv'\n",
    "\n",
    "preprocessor = MoveNetPreprocessor(\n",
    "    images_in_folder=images_in_train_folder,\n",
    "    images_out_folder=images_out_train_folder,\n",
    "    csvs_out_path=csvs_out_train_path,\n",
    ")\n",
    "preprocessor.process(per_pose_class_limit=None)"
   ]
  },
  {
   "cell_type": "code",
   "execution_count": 146,
   "metadata": {},
   "outputs": [
    {
     "name": "stderr",
     "output_type": "stream",
     "text": [
      "Preprocessing Average\n",
      "  0%|          | 0/39 [00:00<?, ?it/s]/Users/rahul/Documents/Calisthenics-App/venv/lib/python3.7/site-packages/ipykernel_launcher.py:89: DeprecationWarning: `np.str` is a deprecated alias for the builtin `str`. To silence this warning, use `str` by itself. Doing this will not modify any behavior and is safe. If you specifically wanted the numpy scalar type, use `np.str_` here.\n",
      "Deprecated in NumPy 1.20; for more details and guidance: https://numpy.org/devdocs/release/1.20.0-notes.html#deprecations\n",
      "100%|██████████| 39/39 [00:16<00:00,  2.43it/s]\n",
      "Preprocessing Bad\n",
      "100%|██████████| 21/21 [00:07<00:00,  2.98it/s]\n",
      "Preprocessing Good\n",
      "100%|██████████| 12/12 [00:05<00:00,  2.13it/s]\n",
      "Preprocessing Perfect\n",
      "100%|██████████| 20/20 [00:08<00:00,  2.26it/s]"
     ]
    },
    {
     "name": "stdout",
     "output_type": "stream",
     "text": [
      "Skipped ./Input/Split-Planche/test/Average/7.jpeg. No pose was confidentlly detected.\n",
      "Skipped ./Input/Split-Planche/test/Average/87.jpeg. No pose was confidentlly detected.\n",
      "Skipped ./Input/Split-Planche/test/Good/4.jpeg. No pose was confidentlly detected.\n"
     ]
    },
    {
     "name": "stderr",
     "output_type": "stream",
     "text": [
      "\n"
     ]
    }
   ],
   "source": [
    "# Preprocess Test Folder\n",
    "images_in_test_folder = os.path.join(IMAGES_ROOT, 'test')\n",
    "images_out_test_folder = output_dir + '/images_out_test'\n",
    "csvs_out_test_path = output_dir + '/test_data.csv'\n",
    "\n",
    "preprocessor = MoveNetPreprocessor(\n",
    "    images_in_folder=images_in_test_folder,\n",
    "    images_out_folder=images_out_test_folder,\n",
    "    csvs_out_path=csvs_out_test_path,\n",
    ")\n",
    "preprocessor.process(per_pose_class_limit=None)"
   ]
  },
  {
   "cell_type": "code",
   "execution_count": 147,
   "metadata": {},
   "outputs": [],
   "source": [
    "# Loads a CSV Created by MoveNetPreprocessor\n",
    "def load_pose_landmarks(csv_path):\n",
    "    # Load the CSV file\n",
    "    dataframe = pd.read_csv(csv_path)\n",
    "    df_to_process = dataframe.copy()\n",
    "\n",
    "    # Drop the file_name columns as you don't need it during training.\n",
    "    df_to_process.drop(columns=['file_name'], inplace=True)\n",
    "\n",
    "    # Extract the list of class names\n",
    "    classes = df_to_process.pop('class_name').unique()\n",
    "\n",
    "    # Extract the labels\n",
    "    y = df_to_process.pop('class_no')\n",
    "\n",
    "    # Convert the input features and labels into the correct format for training.\n",
    "    X = df_to_process.astype('float64')\n",
    "    y = keras.utils.to_categorical(y)\n",
    "\n",
    "    return X, y, classes, dataframe"
   ]
  },
  {
   "cell_type": "code",
   "execution_count": 148,
   "metadata": {},
   "outputs": [],
   "source": [
    "# Calculates Center Point of Two Given Landmarks\n",
    "def get_center_point(landmarks, left_bodypart, right_bodypart):\n",
    "  left = tf.gather(landmarks, left_bodypart.value, axis=1)\n",
    "  right = tf.gather(landmarks, right_bodypart.value, axis=1)\n",
    "  center = left * 0.5 + right * 0.5\n",
    "  return center"
   ]
  },
  {
   "cell_type": "code",
   "execution_count": 149,
   "metadata": {},
   "outputs": [],
   "source": [
    "# Calculates Pose Size \n",
    "# Maximum of two values \n",
    "# - Torso size multiplied by `torso_size_multiplier` \n",
    "# - Maximum distance from pose center to any pose landmark\n",
    "def get_pose_size(landmarks, torso_size_multiplier=2.5):\n",
    "  \n",
    "    # Hips center\n",
    "    hips_center = get_center_point(landmarks, BodyPart.LEFT_HIP, BodyPart.RIGHT_HIP)\n",
    "\n",
    "    # Shoulders center\n",
    "    shoulders_center = get_center_point(landmarks, BodyPart.LEFT_SHOULDER, BodyPart.RIGHT_SHOULDER)\n",
    "\n",
    "    # Torso size as the minimum body size\n",
    "    torso_size = tf.linalg.norm(shoulders_center - hips_center)\n",
    "\n",
    "    # Pose center\n",
    "    pose_center_new = get_center_point(landmarks, BodyPart.LEFT_HIP, BodyPart.RIGHT_HIP)\n",
    "    pose_center_new = tf.expand_dims(pose_center_new, axis=1)\n",
    "\n",
    "    # Broadcast the pose center to the same size as the landmark vector to\n",
    "    # perform substraction\n",
    "    pose_center_new = tf.broadcast_to(pose_center_new, [tf.size(landmarks) // (17*2), 17, 2])\n",
    "\n",
    "    # Dist to pose center\n",
    "    d = tf.gather(landmarks - pose_center_new, 0, axis=0, name=\"dist_to_pose_center\")\n",
    "\n",
    "    # Max dist to pose center\n",
    "    max_dist = tf.reduce_max(tf.linalg.norm(d, axis=0))\n",
    "\n",
    "    # Normalize scale\n",
    "    pose_size = tf.maximum(torso_size * torso_size_multiplier, max_dist)\n",
    "\n",
    "    return pose_size"
   ]
  },
  {
   "cell_type": "code",
   "execution_count": 150,
   "metadata": {},
   "outputs": [],
   "source": [
    "# Normalizing Landmarks by Moving Pose Center to (0,0) and Scaling to Constant Size\n",
    "def normalize_pose_landmarks(landmarks):\n",
    "    # Move landmarks so that the pose center becomes (0,0)\n",
    "    pose_center = get_center_point(landmarks, BodyPart.LEFT_HIP, BodyPart.RIGHT_HIP)\n",
    "\n",
    "    pose_center = tf.expand_dims(pose_center, axis=1)\n",
    "    # Broadcast the pose center to the same size as the landmark vector to perform\n",
    "    # substraction\n",
    "    pose_center = tf.broadcast_to(pose_center, [tf.size(landmarks) // (17*2), 17, 2])\n",
    "    landmarks = landmarks - pose_center\n",
    "\n",
    "    # Scale the landmarks to a constant pose size\n",
    "    pose_size = get_pose_size(landmarks)\n",
    "    landmarks /= pose_size\n",
    "\n",
    "    return landmarks"
   ]
  },
  {
   "cell_type": "code",
   "execution_count": 151,
   "metadata": {},
   "outputs": [],
   "source": [
    "# Converts Input Landmarks into Pose Embedding\n",
    "def landmarks_to_embedding(landmarks_and_scores):\n",
    "\n",
    "  # Reshape the flat input into a matrix with shape=(17, 3)\n",
    "  reshaped_inputs = keras.layers.Reshape((17, 3))(landmarks_and_scores)\n",
    "\n",
    "  # Normalize landmarks 2D\n",
    "  landmarks = normalize_pose_landmarks(reshaped_inputs[:, :, :2])\n",
    "\n",
    "  # Flatten the normalized landmark coordinates into a vector\n",
    "  embedding = keras.layers.Flatten()(landmarks)\n",
    "\n",
    "  return embedding"
   ]
  },
  {
   "cell_type": "code",
   "execution_count": 152,
   "metadata": {},
   "outputs": [],
   "source": [
    "def preprocess_data(X_train):\n",
    "    processed_X_train = []\n",
    "    for i in range(X_train.shape[0]):\n",
    "        embedding = landmarks_to_embedding(tf.reshape(tf.convert_to_tensor(X_train.iloc[i]), (1, 51)))\n",
    "        processed_X_train.append(tf.reshape(embedding, (34)))\n",
    "    return tf.convert_to_tensor(processed_X_train)"
   ]
  },
  {
   "cell_type": "code",
   "execution_count": 153,
   "metadata": {},
   "outputs": [],
   "source": [
    "# Load the train data\n",
    "X, y, class_names, df = load_pose_landmarks(csvs_out_train_path)\n",
    "\n",
    "# Split training data (X, y) into (X_train, y_train) and (X_val, y_val)\n",
    "X_train, X_val, y_train, y_val = train_test_split(X, y, test_size=0.15)\n",
    "\n",
    "# Load the test data\n",
    "X_test, y_test, _, df_test = load_pose_landmarks(csvs_out_test_path)"
   ]
  },
  {
   "cell_type": "code",
   "execution_count": 154,
   "metadata": {},
   "outputs": [
    {
     "name": "stdout",
     "output_type": "stream",
     "text": [
      "Model: \"model_5\"\n",
      "_________________________________________________________________\n",
      " Layer (type)                Output Shape              Param #   \n",
      "=================================================================\n",
      " input_6 (InputLayer)        [(None, 34)]              0         \n",
      "                                                                 \n",
      " dense_15 (Dense)            (None, 128)               4480      \n",
      "                                                                 \n",
      " dropout_10 (Dropout)        (None, 128)               0         \n",
      "                                                                 \n",
      " dense_16 (Dense)            (None, 64)                8256      \n",
      "                                                                 \n",
      " dropout_11 (Dropout)        (None, 64)                0         \n",
      "                                                                 \n",
      " dense_17 (Dense)            (None, 4)                 260       \n",
      "                                                                 \n",
      "=================================================================\n",
      "Total params: 12,996\n",
      "Trainable params: 12,996\n",
      "Non-trainable params: 0\n",
      "_________________________________________________________________\n",
      "None\n"
     ]
    }
   ],
   "source": [
    "processed_X_train = preprocess_data(X_train)\n",
    "processed_X_val =  preprocess_data(X_val)\n",
    "processed_X_test = preprocess_data(X_test)\n",
    "\n",
    "inputs = tf.keras.Input(shape=(34))\n",
    "layer = keras.layers.Dense(128, activation=tf.nn.relu6)(inputs)\n",
    "layer = keras.layers.Dropout(0.5)(layer)\n",
    "layer = keras.layers.Dense(64, activation=tf.nn.relu6)(layer)\n",
    "layer = keras.layers.Dropout(0.5)(layer)\n",
    "outputs = keras.layers.Dense(len(class_names), activation=\"softmax\")(layer)\n",
    "\n",
    "model = keras.Model(inputs, outputs)\n",
    "print(model.summary())"
   ]
  },
  {
   "cell_type": "code",
   "execution_count": 155,
   "metadata": {},
   "outputs": [
    {
     "name": "stdout",
     "output_type": "stream",
     "text": [
      "Epoch 1/200\n",
      "11/20 [===============>..............] - ETA: 0s - loss: 1.3493 - accuracy: 0.2898 \n",
      "Epoch 1: val_accuracy improved from -inf to 0.63636, saving model to TF-Models/weights.best.hdf5\n",
      "20/20 [==============================] - 2s 25ms/step - loss: 1.3283 - accuracy: 0.3388 - val_loss: 1.2061 - val_accuracy: 0.6364\n",
      "Epoch 2/200\n",
      "18/20 [==========================>...] - ETA: 0s - loss: 1.2541 - accuracy: 0.4375\n",
      "Epoch 2: val_accuracy did not improve from 0.63636\n",
      "20/20 [==============================] - 0s 6ms/step - loss: 1.2500 - accuracy: 0.4332 - val_loss: 1.0927 - val_accuracy: 0.6000\n",
      "Epoch 3/200\n",
      "16/20 [=======================>......] - ETA: 0s - loss: 1.1712 - accuracy: 0.4570\n",
      "Epoch 3: val_accuracy improved from 0.63636 to 0.65455, saving model to TF-Models/weights.best.hdf5\n",
      "20/20 [==============================] - 0s 8ms/step - loss: 1.1740 - accuracy: 0.4593 - val_loss: 0.9920 - val_accuracy: 0.6545\n",
      "Epoch 4/200\n",
      "17/20 [========================>.....] - ETA: 0s - loss: 1.1086 - accuracy: 0.5368\n",
      "Epoch 4: val_accuracy improved from 0.65455 to 0.72727, saving model to TF-Models/weights.best.hdf5\n",
      "20/20 [==============================] - 0s 8ms/step - loss: 1.1101 - accuracy: 0.5375 - val_loss: 0.8952 - val_accuracy: 0.7273\n",
      "Epoch 5/200\n",
      "17/20 [========================>.....] - ETA: 0s - loss: 1.0702 - accuracy: 0.5551\n",
      "Epoch 5: val_accuracy did not improve from 0.72727\n",
      "20/20 [==============================] - 0s 11ms/step - loss: 1.0413 - accuracy: 0.5733 - val_loss: 0.8185 - val_accuracy: 0.7273\n",
      "Epoch 6/200\n",
      "12/20 [=================>............] - ETA: 0s - loss: 0.9709 - accuracy: 0.6042\n",
      "Epoch 6: val_accuracy improved from 0.72727 to 0.80000, saving model to TF-Models/weights.best.hdf5\n",
      "20/20 [==============================] - 0s 10ms/step - loss: 0.9779 - accuracy: 0.6156 - val_loss: 0.7568 - val_accuracy: 0.8000\n",
      "Epoch 7/200\n",
      "16/20 [=======================>......] - ETA: 0s - loss: 0.9114 - accuracy: 0.6680\n",
      "Epoch 7: val_accuracy did not improve from 0.80000\n",
      "20/20 [==============================] - 0s 7ms/step - loss: 0.9179 - accuracy: 0.6678 - val_loss: 0.6977 - val_accuracy: 0.8000\n",
      "Epoch 8/200\n",
      "20/20 [==============================] - ETA: 0s - loss: 0.8447 - accuracy: 0.7003\n",
      "Epoch 8: val_accuracy improved from 0.80000 to 0.83636, saving model to TF-Models/weights.best.hdf5\n",
      "20/20 [==============================] - 0s 10ms/step - loss: 0.8447 - accuracy: 0.7003 - val_loss: 0.6487 - val_accuracy: 0.8364\n",
      "Epoch 9/200\n",
      "17/20 [========================>.....] - ETA: 0s - loss: 0.7881 - accuracy: 0.7059\n",
      "Epoch 9: val_accuracy did not improve from 0.83636\n",
      "20/20 [==============================] - 0s 7ms/step - loss: 0.7975 - accuracy: 0.7068 - val_loss: 0.6107 - val_accuracy: 0.8364\n",
      "Epoch 10/200\n",
      "17/20 [========================>.....] - ETA: 0s - loss: 0.7751 - accuracy: 0.7279\n",
      "Epoch 10: val_accuracy improved from 0.83636 to 0.85455, saving model to TF-Models/weights.best.hdf5\n",
      "20/20 [==============================] - 0s 9ms/step - loss: 0.7711 - accuracy: 0.7296 - val_loss: 0.5727 - val_accuracy: 0.8545\n",
      "Epoch 11/200\n",
      "20/20 [==============================] - ETA: 0s - loss: 0.7256 - accuracy: 0.7557\n",
      "Epoch 11: val_accuracy did not improve from 0.85455\n",
      "20/20 [==============================] - 0s 6ms/step - loss: 0.7256 - accuracy: 0.7557 - val_loss: 0.5467 - val_accuracy: 0.8545\n",
      "Epoch 12/200\n",
      " 1/20 [>.............................] - ETA: 0s - loss: 0.5337 - accuracy: 0.7500\n",
      "Epoch 12: val_accuracy improved from 0.85455 to 0.87273, saving model to TF-Models/weights.best.hdf5\n",
      "20/20 [==============================] - 0s 7ms/step - loss: 0.6932 - accuracy: 0.7590 - val_loss: 0.5018 - val_accuracy: 0.8727\n",
      "Epoch 13/200\n",
      " 1/20 [>.............................] - ETA: 0s - loss: 0.8155 - accuracy: 0.6250\n",
      "Epoch 13: val_accuracy did not improve from 0.87273\n",
      "20/20 [==============================] - 0s 6ms/step - loss: 0.6507 - accuracy: 0.7622 - val_loss: 0.5011 - val_accuracy: 0.8545\n",
      "Epoch 14/200\n",
      "18/20 [==========================>...] - ETA: 0s - loss: 0.6540 - accuracy: 0.7743\n",
      "Epoch 14: val_accuracy did not improve from 0.87273\n",
      "20/20 [==============================] - 0s 7ms/step - loss: 0.6366 - accuracy: 0.7818 - val_loss: 0.4759 - val_accuracy: 0.8727\n",
      "Epoch 15/200\n",
      "13/20 [==================>...........] - ETA: 0s - loss: 0.5557 - accuracy: 0.7981\n",
      "Epoch 15: val_accuracy did not improve from 0.87273\n",
      "20/20 [==============================] - 0s 10ms/step - loss: 0.5963 - accuracy: 0.7818 - val_loss: 0.4537 - val_accuracy: 0.8727\n",
      "Epoch 16/200\n",
      "18/20 [==========================>...] - ETA: 0s - loss: 0.5975 - accuracy: 0.7847\n",
      "Epoch 16: val_accuracy improved from 0.87273 to 0.89091, saving model to TF-Models/weights.best.hdf5\n",
      "20/20 [==============================] - 0s 21ms/step - loss: 0.5876 - accuracy: 0.7915 - val_loss: 0.4375 - val_accuracy: 0.8909\n",
      "Epoch 17/200\n",
      "10/20 [==============>...............] - ETA: 0s - loss: 0.6099 - accuracy: 0.7500\n",
      "Epoch 17: val_accuracy did not improve from 0.89091\n",
      "20/20 [==============================] - 0s 8ms/step - loss: 0.5617 - accuracy: 0.7785 - val_loss: 0.4194 - val_accuracy: 0.8909\n",
      "Epoch 18/200\n",
      "20/20 [==============================] - ETA: 0s - loss: 0.5500 - accuracy: 0.7980\n",
      "Epoch 18: val_accuracy did not improve from 0.89091\n",
      "20/20 [==============================] - 0s 5ms/step - loss: 0.5500 - accuracy: 0.7980 - val_loss: 0.4102 - val_accuracy: 0.8909\n",
      "Epoch 19/200\n",
      " 1/20 [>.............................] - ETA: 0s - loss: 0.6435 - accuracy: 0.6875\n",
      "Epoch 19: val_accuracy did not improve from 0.89091\n",
      "20/20 [==============================] - 0s 5ms/step - loss: 0.5831 - accuracy: 0.7818 - val_loss: 0.4054 - val_accuracy: 0.8909\n",
      "Epoch 20/200\n",
      "15/20 [=====================>........] - ETA: 0s - loss: 0.5363 - accuracy: 0.8167\n",
      "Epoch 20: val_accuracy did not improve from 0.89091\n",
      "20/20 [==============================] - 0s 6ms/step - loss: 0.5188 - accuracy: 0.8208 - val_loss: 0.4040 - val_accuracy: 0.8909\n",
      "Epoch 21/200\n",
      "19/20 [===========================>..] - ETA: 0s - loss: 0.5426 - accuracy: 0.8059\n",
      "Epoch 21: val_accuracy did not improve from 0.89091\n",
      "20/20 [==============================] - 0s 5ms/step - loss: 0.5405 - accuracy: 0.8078 - val_loss: 0.3750 - val_accuracy: 0.8909\n",
      "Epoch 22/200\n",
      "19/20 [===========================>..] - ETA: 0s - loss: 0.5054 - accuracy: 0.8224\n",
      "Epoch 22: val_accuracy did not improve from 0.89091\n",
      "20/20 [==============================] - 0s 5ms/step - loss: 0.5060 - accuracy: 0.8208 - val_loss: 0.3872 - val_accuracy: 0.8909\n",
      "Epoch 23/200\n",
      " 1/20 [>.............................] - ETA: 0s - loss: 0.3752 - accuracy: 0.8125\n",
      "Epoch 23: val_accuracy did not improve from 0.89091\n",
      "20/20 [==============================] - 0s 5ms/step - loss: 0.4925 - accuracy: 0.8241 - val_loss: 0.3795 - val_accuracy: 0.8909\n",
      "Epoch 24/200\n",
      "20/20 [==============================] - ETA: 0s - loss: 0.4788 - accuracy: 0.8306\n",
      "Epoch 24: val_accuracy did not improve from 0.89091\n",
      "20/20 [==============================] - 0s 5ms/step - loss: 0.4788 - accuracy: 0.8306 - val_loss: 0.3542 - val_accuracy: 0.8909\n",
      "Epoch 25/200\n",
      " 1/20 [>.............................] - ETA: 0s - loss: 0.5480 - accuracy: 0.8125\n",
      "Epoch 25: val_accuracy did not improve from 0.89091\n",
      "20/20 [==============================] - 0s 5ms/step - loss: 0.4863 - accuracy: 0.8241 - val_loss: 0.3359 - val_accuracy: 0.8909\n",
      "Epoch 26/200\n",
      " 1/20 [>.............................] - ETA: 0s - loss: 0.3486 - accuracy: 0.8750\n",
      "Epoch 26: val_accuracy did not improve from 0.89091\n",
      "20/20 [==============================] - 0s 5ms/step - loss: 0.4722 - accuracy: 0.8208 - val_loss: 0.3481 - val_accuracy: 0.8909\n",
      "Epoch 27/200\n",
      "18/20 [==========================>...] - ETA: 0s - loss: 0.4489 - accuracy: 0.8368\n",
      "Epoch 27: val_accuracy did not improve from 0.89091\n",
      "20/20 [==============================] - 0s 5ms/step - loss: 0.4475 - accuracy: 0.8404 - val_loss: 0.3492 - val_accuracy: 0.8909\n",
      "Epoch 28/200\n",
      " 1/20 [>.............................] - ETA: 0s - loss: 0.3094 - accuracy: 0.9375\n",
      "Epoch 28: val_accuracy did not improve from 0.89091\n",
      "20/20 [==============================] - 0s 5ms/step - loss: 0.4639 - accuracy: 0.8339 - val_loss: 0.3235 - val_accuracy: 0.8909\n",
      "Epoch 29/200\n",
      " 1/20 [>.............................] - ETA: 0s - loss: 0.5307 - accuracy: 0.8125\n",
      "Epoch 29: val_accuracy did not improve from 0.89091\n",
      "20/20 [==============================] - 0s 4ms/step - loss: 0.4484 - accuracy: 0.8469 - val_loss: 0.3296 - val_accuracy: 0.8909\n",
      "Epoch 30/200\n",
      " 1/20 [>.............................] - ETA: 0s - loss: 0.3505 - accuracy: 0.8125\n",
      "Epoch 30: val_accuracy did not improve from 0.89091\n",
      "20/20 [==============================] - 0s 5ms/step - loss: 0.4365 - accuracy: 0.8436 - val_loss: 0.3157 - val_accuracy: 0.8909\n",
      "Epoch 31/200\n",
      " 1/20 [>.............................] - ETA: 0s - loss: 0.3892 - accuracy: 0.8750\n",
      "Epoch 31: val_accuracy did not improve from 0.89091\n",
      "20/20 [==============================] - 0s 5ms/step - loss: 0.4382 - accuracy: 0.8241 - val_loss: 0.3114 - val_accuracy: 0.8909\n",
      "Epoch 32/200\n",
      " 1/20 [>.............................] - ETA: 0s - loss: 0.2338 - accuracy: 0.9375\n",
      "Epoch 32: val_accuracy did not improve from 0.89091\n",
      "20/20 [==============================] - 0s 5ms/step - loss: 0.3909 - accuracy: 0.8404 - val_loss: 0.3266 - val_accuracy: 0.8909\n",
      "Epoch 33/200\n",
      "18/20 [==========================>...] - ETA: 0s - loss: 0.3990 - accuracy: 0.8472\n",
      "Epoch 33: val_accuracy did not improve from 0.89091\n",
      "20/20 [==============================] - 0s 6ms/step - loss: 0.4145 - accuracy: 0.8371 - val_loss: 0.2873 - val_accuracy: 0.8909\n",
      "Epoch 34/200\n",
      "17/20 [========================>.....] - ETA: 0s - loss: 0.4177 - accuracy: 0.8456\n",
      "Epoch 34: val_accuracy did not improve from 0.89091\n",
      "20/20 [==============================] - 0s 6ms/step - loss: 0.4040 - accuracy: 0.8534 - val_loss: 0.3150 - val_accuracy: 0.8909\n",
      "Epoch 35/200\n",
      " 1/20 [>.............................] - ETA: 0s - loss: 0.2551 - accuracy: 1.0000\n",
      "Epoch 35: val_accuracy did not improve from 0.89091\n",
      "20/20 [==============================] - 0s 5ms/step - loss: 0.3972 - accuracy: 0.8469 - val_loss: 0.2943 - val_accuracy: 0.8909\n",
      "Epoch 36/200\n",
      " 1/20 [>.............................] - ETA: 0s - loss: 0.5366 - accuracy: 0.7500\n",
      "Epoch 36: val_accuracy did not improve from 0.89091\n",
      "20/20 [==============================] - 0s 4ms/step - loss: 0.4093 - accuracy: 0.8241 - val_loss: 0.2872 - val_accuracy: 0.8909\n"
     ]
    }
   ],
   "source": [
    "model.compile(\n",
    "    optimizer='adam',\n",
    "    loss='categorical_crossentropy',\n",
    "    metrics=['accuracy']\n",
    ")\n",
    "\n",
    "# Add a checkpoint callback to store the checkpoint that has the highest validation accuracy.\n",
    "checkpoint_path = \"TF-Models/weights.best.hdf5\"\n",
    "checkpoint = keras.callbacks.ModelCheckpoint(checkpoint_path,\n",
    "                             monitor='val_accuracy',\n",
    "                             verbose=1,\n",
    "                             save_best_only=True,\n",
    "                             mode='max')\n",
    "earlystopping = keras.callbacks.EarlyStopping(monitor='val_accuracy', \n",
    "                                              patience=20)\n",
    "\n",
    "# Start training\n",
    "history = model.fit(processed_X_train, y_train,\n",
    "                    epochs=200,\n",
    "                    batch_size=16,\n",
    "                    validation_data=(processed_X_val, y_val),\n",
    "                    callbacks=[checkpoint, earlystopping])"
   ]
  },
  {
   "cell_type": "code",
   "execution_count": 156,
   "metadata": {},
   "outputs": [
    {
     "data": {
      "image/png": "[encoded data removed]",
      "text/plain": [
       "<Figure size 640x480 with 1 Axes>"
      ]
     },
     "metadata": {},
     "output_type": "display_data"
    }
   ],
   "source": [
    "# Visualize the training history to see whether you're overfitting.\n",
    "plt.plot(history.history['accuracy'])\n",
    "plt.plot(history.history['val_accuracy'])\n",
    "plt.title('Model accuracy')\n",
    "plt.ylabel('accuracy')\n",
    "plt.xlabel('epoch')\n",
    "plt.legend(['TRAIN', 'VAL'], loc='lower right')\n",
    "plt.show()"
   ]
  },
  {
   "cell_type": "code",
   "execution_count": 157,
   "metadata": {},
   "outputs": [
    {
     "name": "stdout",
     "output_type": "stream",
     "text": [
      "3/3 [==============================] - 0s 4ms/step - loss: 0.3207 - accuracy: 0.8427\n"
     ]
    }
   ],
   "source": [
    "# Evaluate the model using the TEST dataset\n",
    "loss, accuracy = model.evaluate(processed_X_test, y_test)"
   ]
  },
  {
   "attachments": {},
   "cell_type": "markdown",
   "metadata": {},
   "source": [
    "#### Confusion Matrix"
   ]
  },
  {
   "cell_type": "code",
   "execution_count": 158,
   "metadata": {},
   "outputs": [
    {
     "name": "stdout",
     "output_type": "stream",
     "text": [
      "WARNING:tensorflow:5 out of the last 12 calls to <function Model.make_predict_function.<locals>.predict_function at 0x7f7f34680a70> triggered tf.function retracing. Tracing is expensive and the excessive number of tracings could be due to (1) creating @tf.function repeatedly in a loop, (2) passing tensors with different shapes, (3) passing Python objects instead of tensors. For (1), please define your @tf.function outside of the loop. For (2), @tf.function has reduce_retracing=True option that can avoid unnecessary retracing. For (3), please refer to https://www.tensorflow.org/guide/function#controlling_retracing and https://www.tensorflow.org/api_docs/python/tf/function for  more details.\n"
     ]
    },
    {
     "name": "stderr",
     "output_type": "stream",
     "text": [
      "WARNING:tensorflow:5 out of the last 12 calls to <function Model.make_predict_function.<locals>.predict_function at 0x7f7f34680a70> triggered tf.function retracing. Tracing is expensive and the excessive number of tracings could be due to (1) creating @tf.function repeatedly in a loop, (2) passing tensors with different shapes, (3) passing Python objects instead of tensors. For (1), please define your @tf.function outside of the loop. For (2), @tf.function has reduce_retracing=True option that can avoid unnecessary retracing. For (3), please refer to https://www.tensorflow.org/guide/function#controlling_retracing and https://www.tensorflow.org/api_docs/python/tf/function for  more details.\n"
     ]
    },
    {
     "name": "stdout",
     "output_type": "stream",
     "text": [
      "3/3 [==============================] - 0s 4ms/step\n",
      "Confusion matrix, without normalization\n",
      "\n",
      "Classification Report:\n",
      "               precision    recall  f1-score   support\n",
      "\n",
      "     Average       0.97      0.92      0.94        37\n",
      "         Bad       1.00      1.00      1.00        21\n",
      "        Good       0.50      0.09      0.15        11\n",
      "     Perfect       0.61      0.95      0.75        20\n",
      "\n",
      "    accuracy                           0.84        89\n",
      "   macro avg       0.77      0.74      0.71        89\n",
      "weighted avg       0.84      0.84      0.82        89\n",
      "\n"
     ]
    },
    {
     "data": {
      "image/png": "[encoded data removed]",
      "text/plain": [
       "<Figure size 640x480 with 2 Axes>"
      ]
     },
     "metadata": {},
     "output_type": "display_data"
    }
   ],
   "source": [
    "def plot_confusion_matrix(cm, classes,\n",
    "                          normalize=False,\n",
    "                          title='Confusion matrix',\n",
    "                          cmap=plt.cm.Blues):\n",
    "  \"\"\"Plots the confusion matrix.\"\"\"\n",
    "  if normalize:\n",
    "    cm = cm.astype('float') / cm.sum(axis=1)[:, np.newaxis]\n",
    "    print(\"Normalized confusion matrix\")\n",
    "  else:\n",
    "    print('Confusion matrix, without normalization')\n",
    "\n",
    "  plt.imshow(cm, interpolation='nearest', cmap=cmap)\n",
    "  plt.title(title)\n",
    "  plt.colorbar()\n",
    "  tick_marks = np.arange(len(classes))\n",
    "  plt.xticks(tick_marks, classes, rotation=55)\n",
    "  plt.yticks(tick_marks, classes)\n",
    "  fmt = '.2f' if normalize else 'd'\n",
    "  thresh = cm.max() / 2.\n",
    "  for i, j in itertools.product(range(cm.shape[0]), range(cm.shape[1])):\n",
    "    plt.text(j, i, format(cm[i, j], fmt),\n",
    "              horizontalalignment=\"center\",\n",
    "              color=\"white\" if cm[i, j] > thresh else \"black\")\n",
    "\n",
    "  plt.ylabel('True label')\n",
    "  plt.xlabel('Predicted label')\n",
    "  plt.tight_layout()\n",
    "\n",
    "# Classify pose in the TEST dataset using the trained model\n",
    "y_pred = model.predict(processed_X_test)\n",
    "\n",
    "# Convert the prediction result to class name\n",
    "y_pred_label = [class_names[i] for i in np.argmax(y_pred, axis=1)]\n",
    "y_true_label = [class_names[i] for i in np.argmax(y_test, axis=1)]\n",
    "\n",
    "# Plot the confusion matrix\n",
    "cm = confusion_matrix(np.argmax(y_test, axis=1), np.argmax(y_pred, axis=1))\n",
    "plot_confusion_matrix(cm,\n",
    "                      class_names,\n",
    "                      title ='Confusion Matrix of Pose Classification Model')\n",
    "\n",
    "# Print the classification report\n",
    "print('\\nClassification Report:\\n', classification_report(y_true_label,\n",
    "                                                          y_pred_label))"
   ]
  },
  {
   "cell_type": "code",
   "execution_count": 159,
   "metadata": {},
   "outputs": [
    {
     "name": "stderr",
     "output_type": "stream",
     "text": [
      "WARNING:absl:Found untraced functions such as _update_step_xla while saving (showing 1 of 1). These functions will not be directly callable after loading.\n"
     ]
    },
    {
     "name": "stdout",
     "output_type": "stream",
     "text": [
      "INFO:tensorflow:Assets written to: /var/folders/kj/z6f2hnq53ll7t2pf5jdlhc3h0000gn/T/tmpalgcwh8h/assets\n"
     ]
    },
    {
     "name": "stderr",
     "output_type": "stream",
     "text": [
      "INFO:tensorflow:Assets written to: /var/folders/kj/z6f2hnq53ll7t2pf5jdlhc3h0000gn/T/tmpalgcwh8h/assets\n"
     ]
    },
    {
     "name": "stdout",
     "output_type": "stream",
     "text": [
      "Model size: 16KB\n"
     ]
    },
    {
     "name": "stderr",
     "output_type": "stream",
     "text": [
      "2023-03-01 20:10:11.609504: W tensorflow/compiler/mlir/lite/python/tf_tfl_flatbuffer_helpers.cc:362] Ignored output_format.\n",
      "2023-03-01 20:10:11.610103: W tensorflow/compiler/mlir/lite/python/tf_tfl_flatbuffer_helpers.cc:365] Ignored drop_control_dependency.\n",
      "2023-03-01 20:10:11.612469: I tensorflow/cc/saved_model/reader.cc:45] Reading SavedModel from: /var/folders/kj/z6f2hnq53ll7t2pf5jdlhc3h0000gn/T/tmpalgcwh8h\n",
      "2023-03-01 20:10:11.614699: I tensorflow/cc/saved_model/reader.cc:89] Reading meta graph with tags { serve }\n",
      "2023-03-01 20:10:11.614718: I tensorflow/cc/saved_model/reader.cc:130] Reading SavedModel debug info (if present) from: /var/folders/kj/z6f2hnq53ll7t2pf5jdlhc3h0000gn/T/tmpalgcwh8h\n",
      "2023-03-01 20:10:11.630709: I tensorflow/cc/saved_model/loader.cc:229] Restoring SavedModel bundle.\n",
      "2023-03-01 20:10:11.786549: I tensorflow/cc/saved_model/loader.cc:213] Running initialization op on SavedModel bundle at path: /var/folders/kj/z6f2hnq53ll7t2pf5jdlhc3h0000gn/T/tmpalgcwh8h\n",
      "2023-03-01 20:10:11.804714: I tensorflow/cc/saved_model/loader.cc:305] SavedModel load for tags { serve }; Status: success: OK. Took 193306 microseconds.\n"
     ]
    }
   ],
   "source": [
    "# Convert pose classification model to TensorFlow Lite\n",
    "converter = tf.lite.TFLiteConverter.from_keras_model(model)\n",
    "converter.optimizations = [tf.lite.Optimize.DEFAULT]\n",
    "tflite_model = converter.convert()\n",
    "\n",
    "print('Model size: %dKB' % (len(tflite_model) / 1024))\n",
    "\n",
    "with open(CLASSIFIER, 'wb') as f:\n",
    "  f.write(tflite_model)\n",
    "\n",
    "with open(LABELS, 'w') as f:\n",
    "  f.write('\\n'.join(class_names))"
   ]
  },
  {
   "cell_type": "code",
   "execution_count": 160,
   "metadata": {},
   "outputs": [
    {
     "name": "stdout",
     "output_type": "stream",
     "text": [
      "Accuracy of TFLite model: 0.8426966292134831\n"
     ]
    }
   ],
   "source": [
    "def evaluate_model(interpreter, X, y_true):\n",
    "  \"\"\"Evaluates the given TFLite model and return its accuracy.\"\"\"\n",
    "  input_index = interpreter.get_input_details()[0][\"index\"]\n",
    "  output_index = interpreter.get_output_details()[0][\"index\"]\n",
    "\n",
    "  # Run predictions on all given poses.\n",
    "  y_pred = []\n",
    "  for i in range(len(y_true)):\n",
    "    # Pre-processing: add batch dimension and convert to float32 to match with\n",
    "    # the model's input data format.\n",
    "    test_image = np.array(X[i: i + 1]).astype('float32')\n",
    "    interpreter.set_tensor(input_index, test_image)\n",
    "\n",
    "    # Run inference.\n",
    "    interpreter.invoke()\n",
    "\n",
    "    # Post-processing: remove batch dimension and find the class with highest\n",
    "    # probability.\n",
    "    output = interpreter.tensor(output_index)\n",
    "    predicted_label = np.argmax(output()[0])\n",
    "    y_pred.append(predicted_label)\n",
    "\n",
    "  # Compare prediction results with ground truth labels to calculate accuracy.\n",
    "  y_pred = keras.utils.to_categorical(y_pred)\n",
    "  return accuracy_score(y_true, y_pred)\n",
    "\n",
    "# Evaluate the accuracy of the converted TFLite model\n",
    "classifier_interpreter = tf.lite.Interpreter(model_content=tflite_model)\n",
    "classifier_interpreter.allocate_tensors()\n",
    "print('Accuracy of TFLite model: %s' %\n",
    "      evaluate_model(classifier_interpreter, processed_X_test, y_test))"
   ]
  }
 ],
 "metadata": {
  "kernelspec": {
   "display_name": "venv",
   "language": "python",
   "name": "python3"
  },
  "language_info": {
   "codemirror_mode": {
    "name": "ipython",
    "version": 3
   },
   "file_extension": ".py",
   "mimetype": "text/x-python",
   "name": "python",
   "nbconvert_exporter": "python",
   "pygments_lexer": "ipython3",
   "version": "3.7.6"
  },
  "orig_nbformat": 4,
  "vscode": {
   "interpreter": {
    "hash": "a3ad39121b9488888172f994e88cbc8872a978658ded75dd1485f0556f0e85c0"
   }
  }
 },
 "nbformat": 4,
 "nbformat_minor": 2
}
